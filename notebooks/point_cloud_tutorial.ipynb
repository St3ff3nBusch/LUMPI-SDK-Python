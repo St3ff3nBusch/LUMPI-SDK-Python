{
 "cells": [
  {
   "cell_type": "markdown",
   "metadata": {},
   "source": [
    "# LUMPI Point Cloud Tutorial\n",
    "This Jupyter notebook explains the point cloud example in more detail. This tutorial uses:\n",
    "- the LUMPI parser to load the labels and point cloud\n",
    "- the PointCloudFilter to color the background using the provided background segmentation\n",
    "- the PointCloudVisualizer to render the point clouds and bounding boxes in 3D\n",
    "\n",
    "First, the path to the SDK objects is appended and all necessary functions are imported:"
   ]
  },
  {
   "cell_type": "code",
   "execution_count": 3,
   "metadata": {},
   "outputs": [],
   "source": [
    "import sys\n",
    "import os\n",
    "sys.path.append(os.path.abspath(os.path.join(os.getcwd(), '..')))\n",
    "from objects.LUMPIParser import LUMPIParser\n",
    "from objects.PointCloudFilter import PointCloudFilter\n",
    "from objects.PointCloudVisualizer import PointCloudVisualizer\n",
    "import numpy as np"
   ]
  },
  {
   "cell_type": "markdown",
   "metadata": {},
   "source": [
    "Then the path to the LUMP dataset is defined. The following structure is expected to load all meta information and point cloud files by the **measurement_id**:\n",
    "- Root\n",
    "  - Measurement**1**\n",
    "    - lidar\n",
    "        - 0000000.ply\n",
    "  - Measurement**2**\n",
    "    - lidar\n",
    "        - 0000000.ply"
   ]
  },
  {
   "cell_type": "code",
   "execution_count": 4,
   "metadata": {},
   "outputs": [],
   "source": [
    "lp = LUMPIParser(\"/media/busch/ExternSSD1T/LUMPI\")\n",
    "measurement_id = 5\n",
    "lp.read_point_cloud_file_list(measurement_id)"
   ]
  },
  {
   "cell_type": "markdown",
   "metadata": {},
   "source": [
    "Next, all labels are loaded for the measurements by an arbitrary path. This line expects the labels as a SGT.csv file within each measurement directory:\n",
    "- Root\n",
    "  - Measurement**1**\n",
    "    - lidar\n",
    "    - SGT.csv"
   ]
  },
  {
   "cell_type": "code",
   "execution_count": 5,
   "metadata": {},
   "outputs": [
    {
     "name": "stdout",
     "output_type": "stream",
     "text": [
      "reading tracks\n"
     ]
    },
    {
     "name": "stderr",
     "output_type": "stream",
     "text": [
      "100%|██████████| 848400/848400 [00:10<00:00, 77950.46it/s]\n"
     ]
    }
   ],
   "source": [
    "lp.read_track(os.path.join(lp.path, \"Experiment\" + str(measurement_id), \"SGT.csv\"))"
   ]
  },
  {
   "cell_type": "markdown",
   "metadata": {},
   "source": [
    "Next, the point cloud filter subtraction is initialized. The path to the background data can be set arbitrarily. This line expects the background data structured as follows:\n",
    "- Root\n",
    "  - Measurement**1**\n",
    "    - background\n",
    "      - x.npy\n",
    "      - meta_background.txt\n",
    "    - lidar\n",
    "    - SGT.csv\n",
    "\n",
    "The meta_background.txt file is used to load angle and distance resolution for each sensor."
   ]
  },
  {
   "cell_type": "code",
   "execution_count": null,
   "metadata": {},
   "outputs": [],
   "source": [
    "filter = PointCloudFilter()\n",
    "filter.read_background(os.path.join(lp.path, \"Experiment\" + str(measurement_id), \"background\"))"
   ]
  },
  {
   "cell_type": "markdown",
   "metadata": {},
   "source": [
    "Next, the viewer is initialized by the first point cloud and waits for adapting the perspective."
   ]
  },
  {
   "cell_type": "code",
   "execution_count": null,
   "metadata": {},
   "outputs": [],
   "source": [
    "lp.read_point_cloud(0)\n",
    "vis = PointCloudVisualizer()\n",
    "vis.init_camera(lp.get_xyz(), 100)"
   ]
  },
  {
   "cell_type": "markdown",
   "metadata": {},
   "source": [
    "Finally, all point clouds are iterated through by performing the following steps:\n",
    "- clear view\n",
    "- load point cloud\n",
    "- get foreground and background point indices\n",
    "- color foreground black and background gray\n",
    "- add colored cloud to view\n",
    "- iterate through all labels at point cloud index\n",
    "  - add bounding box to viewer\n",
    "- render the viewer and update the perspective"
   ]
  },
  {
   "cell_type": "code",
   "execution_count": null,
   "metadata": {},
   "outputs": [],
   "source": [
    "for i in range(len(lp.point_cloud_files)):\n",
    "    vis.vis.clear_geometries()\n",
    "    lp.read_point_cloud(i)\n",
    "    # Filter background\n",
    "    f, b = filter.filter_background(lp.get_points_meta())\n",
    "    # Color background and foreground\n",
    "    colors = np.zeros((lp.get_xyz().shape[0], 3))\n",
    "    colors[f] = [0, 0, 0]\n",
    "    colors[b] = [0.7, 0.7, 0.7]\n",
    "    vis.add_colored_cloud(lp.get_xyz(), colors)\n",
    "    # Plot bounding boxes\n",
    "    if i in lp.indexOrdered:\n",
    "        for o in lp.indexOrdered[i].values():\n",
    "            vis.add_bounding_box(o)\n",
    "    vis.update_view()"
   ]
  }
 ],
 "metadata": {
  "kernelspec": {
   "display_name": ".venv",
   "language": "python",
   "name": "python3"
  },
  "language_info": {
   "codemirror_mode": {
    "name": "ipython",
    "version": 3
   },
   "file_extension": ".py",
   "mimetype": "text/x-python",
   "name": "python",
   "nbconvert_exporter": "python",
   "pygments_lexer": "ipython3",
   "version": "3.8.10"
  }
 },
 "nbformat": 4,
 "nbformat_minor": 2
}
