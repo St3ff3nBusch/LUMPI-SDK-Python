{
 "cells": [
  {
   "cell_type": "markdown",
   "metadata": {},
   "source": [
    "# LUMPI Point Cloud Tutorial\n",
    "This Jupyter notebook explains the point cloud example in more detail. This tutorial uses:\n",
    "- the LUMPI parser to load the labels and point cloud\n",
    "- the PointCloudFilter to color the background using the provided background segmentation\n",
    "- the PointCloudVisualizer to render the point clouds and bounding boxes in 3D\n",
    "\n",
    "First, the path to the SDK objects is appended and all necessary functions are imported:"
   ]
  },
  {
   "cell_type": "code",
   "execution_count": 2,
   "metadata": {},
   "outputs": [
    {
     "name": "stdout",
     "output_type": "stream",
     "text": [
      "Jupyter environment detected. Enabling Open3D WebVisualizer.\n",
      "[Open3D INFO] WebRTC GUI backend enabled.\n",
      "[Open3D INFO] WebRTCWindowSystem: HTTP handshake server disabled.\n"
     ]
    }
   ],
   "source": [
    "import sys\n",
    "import os\n",
    "sys.path.append(os.path.abspath(os.path.join(os.getcwd(), '..')))\n",
    "from objects.LUMPIParser import LUMPIParser\n",
    "from objects.PointCloudFilter import PointCloudFilter\n",
    "from objects.PointCloudVisualizer import PointCloudVisualizer\n",
    "import numpy as np"
   ]
  },
  {
   "cell_type": "markdown",
   "metadata": {},
   "source": [
    "Then the path to the LUMP dataset is defined. The following structure is expected to load all meta information and point cloud files by the **measurement_id**:\n",
    "- Root\n",
    "  - Measurement**1**\n",
    "    - lidar\n",
    "        - 0000000.ply\n",
    "  - Measurement**2**\n",
    "    - lidar\n",
    "        - 0000000.ply"
   ]
  },
  {
   "cell_type": "code",
   "execution_count": 3,
   "metadata": {},
   "outputs": [],
   "source": [
    "lp = LUMPIParser(\"/home/busch/LUMPI_test_data\")\n",
    "measurement_id = 4\n",
    "lp.read_point_cloud_file_list(measurement_id)"
   ]
  },
  {
   "cell_type": "markdown",
   "metadata": {},
   "source": [
    "Next, all labels are loaded for the measurements by an arbitrary path. This line expects the labels as a SGT.csv file within each measurement directory:\n",
    "- Root\n",
    "  - Measurement**1**\n",
    "    - lidar\n",
    "    - SGT.csv"
   ]
  },
  {
   "cell_type": "code",
   "execution_count": 5,
   "metadata": {},
   "outputs": [
    {
     "name": "stdout",
     "output_type": "stream",
     "text": [
      "reading tracks\n"
     ]
    },
    {
     "name": "stderr",
     "output_type": "stream",
     "text": [
      "100%|██████████| 3541/3541 [00:00<00:00, 72199.58it/s]\n"
     ]
    }
   ],
   "source": [
    "lp.read_track(os.path.join(lp.path, \"Measurement\" + str(measurement_id), \"Label.csv\"))"
   ]
  },
  {
   "cell_type": "markdown",
   "metadata": {},
   "source": [
    "Next, the point cloud filter subtraction is initialized. The path to the background data can be set arbitrarily. This line expects the background data structured as follows:\n",
    "- Root\n",
    "  - Measurement**1**\n",
    "    - background\n",
    "      - x.npy\n",
    "      - meta_background.txt\n",
    "    - lidar\n",
    "    - SGT.csv\n",
    "\n",
    "The meta_background.txt file is used to load angle and distance resolution for each sensor."
   ]
  },
  {
   "cell_type": "code",
   "execution_count": 6,
   "metadata": {},
   "outputs": [],
   "source": [
    "filter = PointCloudFilter()\n",
    "filter.read_background(os.path.join(lp.path, \"Measurement\" + str(measurement_id), \"background\"))"
   ]
  },
  {
   "cell_type": "markdown",
   "metadata": {},
   "source": [
    "Next, the viewer is initialized by the first point cloud and waits for adapting the perspective."
   ]
  },
  {
   "cell_type": "code",
   "execution_count": 7,
   "metadata": {},
   "outputs": [],
   "source": [
    "lp.read_point_cloud(0)\n",
    "vis = PointCloudVisualizer()\n",
    "vis.init_camera(lp.get_xyz(), 100)"
   ]
  },
  {
   "cell_type": "markdown",
   "metadata": {},
   "source": [
    "Finally, all point clouds are iterated through by performing the following steps:\n",
    "- clear view\n",
    "- load point cloud\n",
    "- get foreground and background point indices\n",
    "- color foreground black and background gray\n",
    "- add colored cloud to view\n",
    "- iterate through all labels at point cloud index\n",
    "  - add bounding box to viewer\n",
    "- render the viewer and update the perspective"
   ]
  },
  {
   "cell_type": "code",
   "execution_count": 8,
   "metadata": {},
   "outputs": [
    {
     "ename": "KeyboardInterrupt",
     "evalue": "",
     "output_type": "error",
     "traceback": [
      "\u001b[0;31m---------------------------------------------------------------------------\u001b[0m",
      "\u001b[0;31mKeyboardInterrupt\u001b[0m                         Traceback (most recent call last)",
      "Cell \u001b[0;32mIn[8], line 10\u001b[0m\n\u001b[1;32m      8\u001b[0m colors[f] \u001b[38;5;241m=\u001b[39m [\u001b[38;5;241m0\u001b[39m, \u001b[38;5;241m0\u001b[39m, \u001b[38;5;241m0\u001b[39m]\n\u001b[1;32m      9\u001b[0m colors[b] \u001b[38;5;241m=\u001b[39m [\u001b[38;5;241m0.7\u001b[39m, \u001b[38;5;241m0.7\u001b[39m, \u001b[38;5;241m0.7\u001b[39m]\n\u001b[0;32m---> 10\u001b[0m \u001b[43mvis\u001b[49m\u001b[38;5;241;43m.\u001b[39;49m\u001b[43madd_colored_cloud\u001b[49m\u001b[43m(\u001b[49m\u001b[43mlp\u001b[49m\u001b[38;5;241;43m.\u001b[39;49m\u001b[43mget_xyz\u001b[49m\u001b[43m(\u001b[49m\u001b[43m)\u001b[49m\u001b[43m,\u001b[49m\u001b[43m \u001b[49m\u001b[43mcolors\u001b[49m\u001b[43m)\u001b[49m\n\u001b[1;32m     11\u001b[0m \u001b[38;5;66;03m# Plot bounding boxes\u001b[39;00m\n\u001b[1;32m     12\u001b[0m \u001b[38;5;28;01mif\u001b[39;00m i \u001b[38;5;129;01min\u001b[39;00m lp\u001b[38;5;241m.\u001b[39mindexOrdered:\n",
      "File \u001b[0;32m~/LUMPI-SDK-Python/objects/PointCloudVisualizer.py:34\u001b[0m, in \u001b[0;36mPointCloudVisualizer.add_colored_cloud\u001b[0;34m(self, pts, colors)\u001b[0m\n\u001b[1;32m     32\u001b[0m \u001b[38;5;28;01mdef\u001b[39;00m \u001b[38;5;21madd_colored_cloud\u001b[39m(\u001b[38;5;28mself\u001b[39m,pts,colors):\n\u001b[1;32m     33\u001b[0m     pcd \u001b[38;5;241m=\u001b[39m o3d\u001b[38;5;241m.\u001b[39mgeometry\u001b[38;5;241m.\u001b[39mPointCloud()\n\u001b[0;32m---> 34\u001b[0m     pcd\u001b[38;5;241m.\u001b[39mpoints \u001b[38;5;241m=\u001b[39m \u001b[43mo3d\u001b[49m\u001b[38;5;241;43m.\u001b[39;49m\u001b[43mutility\u001b[49m\u001b[38;5;241;43m.\u001b[39;49m\u001b[43mVector3dVector\u001b[49m\u001b[43m(\u001b[49m\u001b[43mpts\u001b[49m\u001b[43m)\u001b[49m\n\u001b[1;32m     35\u001b[0m     pcd\u001b[38;5;241m.\u001b[39mcolors \u001b[38;5;241m=\u001b[39m o3d\u001b[38;5;241m.\u001b[39mutility\u001b[38;5;241m.\u001b[39mVector3dVector(colors)     \n\u001b[1;32m     36\u001b[0m     \u001b[38;5;28mself\u001b[39m\u001b[38;5;241m.\u001b[39mvis\u001b[38;5;241m.\u001b[39madd_geometry(pcd)\n",
      "\u001b[0;31mKeyboardInterrupt\u001b[0m: "
     ]
    }
   ],
   "source": [
    "for i in range(len(lp.point_cloud_files)):\n",
    "    vis.vis.clear_geometries()\n",
    "    lp.read_point_cloud(i)\n",
    "    # Filter background\n",
    "    f, b = filter.filter_background(lp.get_points_meta())\n",
    "    # Color background and foreground\n",
    "    colors = np.zeros((lp.get_xyz().shape[0], 3))\n",
    "    colors[f] = [0, 0, 0]\n",
    "    colors[b] = [0.7, 0.7, 0.7]\n",
    "    vis.add_colored_cloud(lp.get_xyz(), colors)\n",
    "    # Plot bounding boxes\n",
    "    if i in lp.indexOrdered:\n",
    "        for o in lp.indexOrdered[i].values():\n",
    "            vis.add_bounding_box(o)\n",
    "    vis.update_view()"
   ]
  }
 ],
 "metadata": {
  "kernelspec": {
   "display_name": ".venv",
   "language": "python",
   "name": "python3"
  },
  "language_info": {
   "codemirror_mode": {
    "name": "ipython",
    "version": 3
   },
   "file_extension": ".py",
   "mimetype": "text/x-python",
   "name": "python",
   "nbconvert_exporter": "python",
   "pygments_lexer": "ipython3",
   "version": "3.8.10"
  }
 },
 "nbformat": 4,
 "nbformat_minor": 2
}
